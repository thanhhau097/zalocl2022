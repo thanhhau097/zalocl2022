{
 "cells": [
  {
   "cell_type": "code",
   "execution_count": 1,
   "id": "93737771",
   "metadata": {},
   "outputs": [],
   "source": [
    "import DALI as dali_code\n",
    "from joblib import Parallel, delayed\n",
    "import torchaudio\n",
    "from DALI.extra import audio_from_url\n",
    "import os\n",
    "\n",
    "from copy import deepcopy\n",
    "from tqdm import tqdm\n",
    "import json"
   ]
  },
  {
   "cell_type": "code",
   "execution_count": 3,
   "id": "16a3469b",
   "metadata": {},
   "outputs": [],
   "source": [
    "dali_data_path = os.path.abspath(\"data/DALI_V1\")\n",
    "path_audio = os.path.abspath(\"data/DALI_v1/songs/\")\n",
    "path_audio_segments \"data/DALI_V1/song_segments/\"\n",
    "path_segment_labels = \"data/DALI_V1/labels/\"\n",
    "\n",
    "os.makedirs(pathaudio, exist_ok=True)\n",
    "os.makedirs(path_audio_segments, exist_ok=True)\n",
    "os.makedirs(path_segment_labels, exist_ok=True)"
   ]
  },
  {
   "cell_type": "code",
   "execution_count": 4,
   "id": "a021b956",
   "metadata": {},
   "outputs": [
    {
     "name": "stdout",
     "output_type": "stream",
     "text": [
      "ERROR: not files with extension .gz\n"
     ]
    }
   ],
   "source": [
    "dali_data = dali_code.get_the_DALI_dataset(dali_data_path, skip=[], keep=[])"
   ]
  },
  {
   "cell_type": "code",
   "execution_count": null,
   "id": "87b9d9e7",
   "metadata": {},
   "outputs": [],
   "source": [
    "dali_info = dali_code.get_info(dali_data_path + 'info/DALI_DATA_INFO.gz')"
   ]
  },
  {
   "cell_type": "code",
   "execution_count": null,
   "id": "da988205",
   "metadata": {},
   "outputs": [],
   "source": [
    "# dali_data.keys()"
   ]
  },
  {
   "cell_type": "code",
   "execution_count": null,
   "id": "8e1158f0",
   "metadata": {},
   "outputs": [],
   "source": [
    "entry = dali_data['001940b614eb43f4a0c826d49a67d66d']"
   ]
  },
  {
   "cell_type": "code",
   "execution_count": null,
   "id": "e075b214",
   "metadata": {},
   "outputs": [],
   "source": [
    "gt = dali_code.utilities.read_gzip(f\"{dali_data_path}001940b614eb43f4a0c826d49a67d66d.gz\")"
   ]
  },
  {
   "cell_type": "code",
   "execution_count": null,
   "id": "043c1c25",
   "metadata": {},
   "outputs": [],
   "source": [
    "# gt.annotations[\"annot\"][\"words\"]"
   ]
  },
  {
   "cell_type": "code",
   "execution_count": null,
   "id": "e094198c",
   "metadata": {},
   "outputs": [],
   "source": [
    "# gt.annotations"
   ]
  },
  {
   "cell_type": "code",
   "execution_count": null,
   "id": "91d0c9a8",
   "metadata": {},
   "outputs": [],
   "source": [
    "# dali_info"
   ]
  },
  {
   "cell_type": "code",
   "execution_count": null,
   "id": "785beb91",
   "metadata": {},
   "outputs": [],
   "source": [
    "def get_audio_from_url(i):\n",
    "    path_output = path_audio + i[0] + \".mp3\"\n",
    "    if os.path.exists(path_output):\n",
    "        return\n",
    "    try:\n",
    "        audio_from_url(i[-2], i[0], path_audio, errors)\n",
    "    except:\n",
    "        print(\"Failed \", i[0])"
   ]
  },
  {
   "cell_type": "markdown",
   "id": "15817eb8",
   "metadata": {},
   "source": [
    "## Download youtube"
   ]
  },
  {
   "cell_type": "code",
   "execution_count": null,
   "id": "808d20ff",
   "metadata": {},
   "outputs": [],
   "source": [
    "errors = []\n",
    "Parallel(n_jobs=1024, verbose=1)(delayed(get_audio_from_url)(i)\n",
    "    for i in dali_info[1:])"
   ]
  },
  {
   "cell_type": "code",
   "execution_count": null,
   "id": "d61eab61",
   "metadata": {},
   "outputs": [],
   "source": [
    "def process_info(info):\n",
    "    ann_path = f\"{dali_data_path}{info[0]}.gz\"\n",
    "    audio_path = f\"{path_audio}{info[0]}.mp3\"\n",
    "    \n",
    "    if not os.path.exists(audio_path):\n",
    "        return\n",
    "    \n",
    "    audio, sample_rate = torchaudio.load(audio_path)\n",
    "    gt = dali_code.utilities.read_gzip(ann_path)\n",
    "    \n",
    "    anns = gt.annotations[\"annot\"][\"words\"]\n",
    "    \n",
    "    zalo_anns = []\n",
    "    \n",
    "    segment = {\"s\": 0, \"e\": 0, \"l\": []}\n",
    "    current_end = 30\n",
    "    \n",
    "    while anns:\n",
    "        if anns[0][\"time\"][1] < current_end:\n",
    "            ann = anns.pop(0)\n",
    "            segment[\"l\"].append({\"s\": ann[\"time\"][0], \"e\": ann[\"time\"][1], \"d\": ann[\"text\"]})\n",
    "        else:\n",
    "            current_end = anns[0][\"time\"][0] + 30\n",
    "            zalo_anns.append(deepcopy(segment))\n",
    "            segment[\"l\"] = []\n",
    "    \n",
    "    \n",
    "    for i, segment in enumerate(zalo_anns):\n",
    "        if len(segment[\"l\"]) == 0:\n",
    "            continue\n",
    "        if i != 0:\n",
    "            segment[\"s\"] = segment[\"l\"][0][\"s\"]\n",
    "        segment[\"e\"] = segment[\"l\"][-1][\"e\"]\n",
    "        # dump segments\n",
    "        start = int(segment[\"s\"] * sample_rate)\n",
    "        end = int(segment[\"e\"] * sample_rate)\n",
    "        audio_segment = audio[:, start : end]\n",
    "        audio_segment_path = os.path.join(path_audio_segments,\n",
    "                                          info[0] + f\"_{str(i)}.wav\")\n",
    "        torchaudio.save(audio_segment_path, audio_segment, sample_rate)\n",
    "        \n",
    "        # make it to 30s\n",
    "        for word in segment[\"l\"]:\n",
    "            word[\"s\"] = (word[\"s\"] - segment[\"s\"]) * 1000\n",
    "            word[\"e\"] = (word[\"e\"] - segment[\"s\"]) * 1000\n",
    "        segment[\"e\"] = (segment[\"e\"] - segment[\"s\"]) * 1000\n",
    "        segment[\"s\"] = 0\n",
    "        json_path = os.path.join(path_segment_labels, info[0] + f\"_{str(i)}.json\")\n",
    "        json.dump([segment], open(json_path, \"w\"), indent=4)"
   ]
  },
  {
   "cell_type": "markdown",
   "id": "5a441f69",
   "metadata": {},
   "source": [
    "## Process jsons"
   ]
  },
  {
   "cell_type": "code",
   "execution_count": null,
   "id": "6640ad2d",
   "metadata": {},
   "outputs": [],
   "source": [
    "Parallel(n_jobs=32, verbose=1)(delayed(process_info)(info) for info in dali_info[1:])"
   ]
  },
  {
   "cell_type": "markdown",
   "id": "03b4136c",
   "metadata": {},
   "source": [
    "## Remove audios"
   ]
  },
  {
   "cell_type": "code",
   "execution_count": null,
   "id": "a44fa283",
   "metadata": {},
   "outputs": [],
   "source": [
    "from IPython.display import Audio \n",
    "from IPython.core.display import display\n",
    "def beep(path):\n",
    "    display(Audio(path, autoplay=True))"
   ]
  },
  {
   "cell_type": "code",
   "execution_count": null,
   "id": "942cd03a",
   "metadata": {},
   "outputs": [],
   "source": [
    "from dataset import get_audio_label_paths, load_wave"
   ]
  },
  {
   "cell_type": "code",
   "execution_count": null,
   "id": "279bfc0f",
   "metadata": {},
   "outputs": [],
   "source": [
    "audios, labels = get_audio_label_paths(\"data/DALI_V1/song_segments/\", \"data/DALI_V1/labels/\")"
   ]
  },
  {
   "cell_type": "code",
   "execution_count": null,
   "id": "1fda455d",
   "metadata": {},
   "outputs": [],
   "source": [
    "removed = []\n",
    "def load_(path):\n",
    "    audio, sr = torchaudio.load(path)\n",
    "    if audio.shape[1] == 0:\n",
    "        removed.append(path)"
   ]
  },
  {
   "cell_type": "code",
   "execution_count": null,
   "id": "783a02b2",
   "metadata": {},
   "outputs": [],
   "source": [
    "\"data/DALI_V1/song_segments/ee222691643f40abb4f7f49d6e990766_5.wav\" in audios"
   ]
  },
  {
   "cell_type": "code",
   "execution_count": null,
   "id": "7b895b6a",
   "metadata": {
    "scrolled": true
   },
   "outputs": [],
   "source": [
    "_ = Parallel(n_jobs=32, verbose=1)(delayed(load_)(p) for p in audios)"
   ]
  },
  {
   "cell_type": "code",
   "execution_count": null,
   "id": "19048943",
   "metadata": {},
   "outputs": [],
   "source": [
    "for p in removed:\n",
    "    os.remove(p)"
   ]
  },
  {
   "cell_type": "code",
   "execution_count": null,
   "id": "c79ad0a1",
   "metadata": {},
   "outputs": [],
   "source": [
    "import numpy as np\n",
    "import json"
   ]
  },
  {
   "cell_type": "code",
   "execution_count": null,
   "id": "4fa5e609",
   "metadata": {},
   "outputs": [],
   "source": [
    "idx = np.random.randint(len(labels))\n",
    "audio = audios[idx]\n",
    "label = labels[idx]"
   ]
  },
  {
   "cell_type": "code",
   "execution_count": null,
   "id": "21ee7292",
   "metadata": {},
   "outputs": [],
   "source": [
    "json.load(open(label))"
   ]
  },
  {
   "cell_type": "code",
   "execution_count": null,
   "id": "3a602643",
   "metadata": {},
   "outputs": [],
   "source": [
    "beep(audio)"
   ]
  },
  {
   "cell_type": "code",
   "execution_count": null,
   "id": "6a67bcda",
   "metadata": {},
   "outputs": [],
   "source": []
  }
 ],
 "metadata": {
  "kernelspec": {
   "display_name": "Python 3 (ipykernel)",
   "language": "python",
   "name": "python3"
  },
  "language_info": {
   "codemirror_mode": {
    "name": "ipython",
    "version": 3
   },
   "file_extension": ".py",
   "mimetype": "text/x-python",
   "name": "python",
   "nbconvert_exporter": "python",
   "pygments_lexer": "ipython3",
   "version": "3.8.13"
  }
 },
 "nbformat": 4,
 "nbformat_minor": 5
}
